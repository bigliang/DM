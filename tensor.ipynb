{
 "cells": [
  {
   "cell_type": "code",
   "execution_count": null,
   "metadata": {
    "collapsed": true
   },
   "outputs": [],
   "source": [
    "import tensorflow as tf\n",
    "import pandas as pd\n",
    "import numpy as np\n",
    "import os\n",
    "import matplotlib\n",
    "import matplotlib.pyplot as plt\n",
    "import random\n",
    "%matplotlib inline\n",
    "import tensorflow as tf\n",
    "import shutil\n",
    "import tensorflow.contrib.learn as tflearn\n",
    "import tensorflow.contrib.layers as tflayers\n",
    "from tensorflow.contrib.learn.python.learn import learn_runner\n",
    "import tensorflow.contrib.metrics as metrics\n",
    "import tensorflow.contrib.rnn as rnn"
   ]
  },
  {
   "cell_type": "code",
   "execution_count": null,
   "metadata": {
    "collapsed": true
   },
   "outputs": [],
   "source": [
    "# x scaling\n",
    "x_scaler = MinMaxScaler().fit(x_train)\n",
    "x_train = x_scaler.transform(x_train) # 他是把整个数据集分成 x y  y是目标值 \n",
    "\n",
    "# y scaling\n",
    "y_scaler = MinMaxScaler().fit(data)\n",
    "data = y_scaler.transform(data)"
   ]
  },
  {
   "cell_type": "code",
   "execution_count": null,
   "metadata": {
    "collapsed": true
   },
   "outputs": [],
   "source": [
    "num_periods = 33 #这个改一下 反正你分割一下 这个 代表有多少个时间周期\n",
    "f_horizon = 1  #forecast horizon, one period into the future //预测下一个时间周期\n",
    "\n",
    "x_data = x_train[:(len(x_train)-(len(x_train) % num_periods))] \n",
    "x_batches = x_data.reshape(-1, 33, 4) #得到training set的x 后面这个四对应x维数\n",
    "\n",
    "y_data = data[:(len(x_train)-(len(x_train) % num_periods))]\n",
    "y_batches = y_data.reshape(-1, 33, 1)#得到training set的y y是目标值\n"
   ]
  },
  {
   "cell_type": "code",
   "execution_count": null,
   "metadata": {
    "collapsed": true
   },
   "outputs": [],
   "source": [
    "def test_data(series,forecast,num_periods):\n",
    "    test_x_setup = x_train[-(num_periods + forecast):]\n",
    "    testX = test_x_setup[:num_periods].reshape(-1, 33, 4)\n",
    "    testY = data[-(num_periods):].reshape(-1, 33, 1)\n",
    "    return testX,testY#得到test set的 x 和y\n",
    "\n",
    "X_test, Y_test = test_data(data,f_horizon,num_periods )\n"
   ]
  },
  {
   "cell_type": "code",
   "execution_count": null,
   "metadata": {
    "collapsed": true
   },
   "outputs": [],
   "source": [
    "tf.reset_default_graph()   #We didn't have any previous graph objects running, but this would reset the graphs\n",
    "\n",
    "num_periods = 33      #number of periods per vector we are using to predict one period ahead\n",
    "inputs = 4           #number of vectors submitted 这个看你train 的x 是几维的 是几维就设成几\n",
    "hidden = 100          #number of neurons we will recursively work through, can be changed to improve accuracy\n",
    "output = 1            #number of output vectors\n",
    "\n",
    "X = tf.placeholder(tf.float32, [None, num_periods, inputs])   #create variable objects\n",
    "y = tf.placeholder(tf.float32, [None, num_periods, output])\n",
    "\n",
    "basic_cell = tf.contrib.rnn.BasicRNNCell(num_units=hidden, activation=tf.nn.relu)   #create our RNN object\n",
    "rnn_output, states = tf.nn.dynamic_rnn(basic_cell, X, dtype=tf.float32)               #choose dynamic over static\n",
    "\n",
    "learning_rate = 0.001   #small learning rate so we don't overshoot the minimum\n",
    "\n",
    "stacked_rnn_output = tf.reshape(rnn_output, [-1, hidden])           #change the form into a tensor\n",
    "stacked_outputs = tf.layers.dense(stacked_rnn_output, output)        #specify the type of layer (dense)\n",
    "outputs = tf.reshape(stacked_outputs, [-1, num_periods, output])          #shape of results\n",
    " \n",
    "loss = tf.reduce_sum(tf.square(outputs - y))    #define the cost function which evaluates the quality of our model\n",
    "optimizer = tf.train.AdamOptimizer(learning_rate=learning_rate)          #gradient descent method\n",
    "training_op = optimizer.minimize(loss)          #train the result of the application of the cost_function                                 \n",
    "init = tf.global_variables_initializer()"
   ]
  },
  {
   "cell_type": "code",
   "execution_count": null,
   "metadata": {
    "collapsed": true
   },
   "outputs": [],
   "source": [
    "epochs = 1000    #number of iterations or training cycles, includes both the FeedFoward and Backpropogation\n",
    "\n",
    "with tf.Session() as sess:\n",
    "    init.run()\n",
    "    ans=[]\n",
    "    for ep in range(epochs):\n",
    "        ans=sess.run(training_op, feed_dict={X: x_batches, y: y_batches})\n",
    "        mse = loss.eval(feed_dict={X: x_batches, y: y_batches})\n",
    "        if ep % 10 == 0:\n",
    "            print(ep, \"\\tMSE:\", mse)\n",
    "    test_pred = sess.run(outputs, feed_dict={X: X_test}) #得到test 结果\n",
    "    train_pred = sess.run(outputs, feed_dict={X: x_batches})#得到train的结果\n",
    "    print(y_pred)"
   ]
  }
 ],
 "metadata": {
  "kernelspec": {
   "display_name": "Python 3",
   "language": "python",
   "name": "python3"
  },
  "language_info": {
   "codemirror_mode": {
    "name": "ipython",
    "version": 3
   },
   "file_extension": ".py",
   "mimetype": "text/x-python",
   "name": "python",
   "nbconvert_exporter": "python",
   "pygments_lexer": "ipython3",
   "version": "3.6.0"
  }
 },
 "nbformat": 4,
 "nbformat_minor": 2
}
