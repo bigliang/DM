{
 "cells": [
  {
   "cell_type": "code",
   "execution_count": null,
   "metadata": {
    "collapsed": false
   },
   "outputs": [],
   "source": [
    "from sklearn.preprocessing import StandardScaler,MinMaxScaler\n",
    "import tensorflow as tf\n",
    "import pandas as pd\n",
    "import numpy as np\n",
    "import os\n",
    "import matplotlib\n",
    "import matplotlib.pyplot as plt\n",
    "import random\n",
    "%matplotlib inline\n",
    "import tensorflow as tf\n",
    "import shutil\n",
    "import tensorflow.contrib.learn as tflearn\n",
    "import tensorflow.contrib.layers as tflayers\n",
    "from tensorflow.contrib.learn.python.learn import learn_runner\n",
    "import tensorflow.contrib.metrics as metrics\n",
    "import tensorflow.contrib.rnn as rnn"
   ]
  },
  {
   "cell_type": "code",
   "execution_count": null,
   "metadata": {
    "collapsed": false
   },
   "outputs": [],
   "source": [
    "data = pd.read_csv('bitcoin-train.csv')\n",
    "data=data.iloc[::-1]\n",
    "data.index=pd.date_range('2013-04-28','2017-7-31')\n",
    "data=data.drop(['Date','Volume','Market Cap'],axis=1)\n"
   ]
  },
  {
   "cell_type": "code",
   "execution_count": null,
   "metadata": {
    "collapsed": false
   },
   "outputs": [],
   "source": [
    "#GET the moving average of the training set\n",
    "x=data['High']\n",
    "cols, names = [], []\n",
    "dim=4\n",
    "for i in range(1, 0, -1):\n",
    "        cols.append(data.shift(i))\n",
    "        names += [('T%d(t-%d)' % (j+1, i)) for j in range(dim)]\n",
    "for i in range(0, 1):\n",
    "        cols.append(data.shift(-i))\n",
    "        if i == 0:\n",
    "            names += [('T%d(t)' % (j+1)) for j in range(dim)]\n",
    "        else:\n",
    "            names += [('T%d(t+%d)' % (j+1, i)) for j in range(dim)]\n",
    "x = pd.concat(cols, axis=1)#merge them togehter\n",
    "x.columns = names\n",
    "x.dropna(inplace=True)\n",
    "x=x.drop(['T2(t-1)'],axis=1)"
   ]
  },
  {
   "cell_type": "code",
   "execution_count": null,
   "metadata": {
    "collapsed": false
   },
   "outputs": [],
   "source": [
    "y=data['High']\n",
    "\n",
    "# scale x\n",
    "x_scaler = MinMaxScaler().fit(x)\n",
    "x = x_scaler.transform(x) \n",
    "\n",
    "# scale target value\n",
    "y_scaler = MinMaxScaler().fit(y.values.reshape(-1,1))\n",
    "y = y_scaler.transform(y.values.reshape(-1,1))"
   ]
  },
  {
   "cell_type": "code",
   "execution_count": null,
   "metadata": {
    "collapsed": false
   },
   "outputs": [],
   "source": [
    "num_periods = 20 #we divide the whole dataset into 20 period\n",
    "f_horizon = 1  #forecast next period\n",
    "\n",
    "x_train = x[:(len(x)-(len(x) % num_periods))] \n",
    "x_batches = x_train.reshape(-1, 20, 7) #get the training set 7 is the dimension of training x\n",
    "\n",
    "y_train = y[:(len(y)-(len(y) % num_periods))]\n",
    "y_batches = y_train.reshape(-1, 20, 1)#get the training true value\n",
    "#get the test set\n",
    "test_x_setup = x[-(num_periods + f_horizon):]\n",
    "test_x = test_x_setup[:num_periods].reshape(-1, 20, 7)\n",
    "test_y = y[-(num_periods):].reshape(-1, 20, 1)"
   ]
  },
  {
   "cell_type": "code",
   "execution_count": null,
   "metadata": {
    "collapsed": true
   },
   "outputs": [],
   "source": [
    "tf.reset_default_graph()   #We didn't have any previous graph objects running, but this would reset the graphs\n",
    "\n",
    "num_periods = 20      #number of periods per vector we are using to predict one period ahead\n",
    "inputs = 7         #number of vectors submitted \n",
    "hidden = 100          #number of neurons we will recursively work through, can be changed to improve accuracy\n",
    "output = 1            #number of output vectors\n",
    "\n",
    "X = tf.placeholder(tf.float32, [None, num_periods, inputs])   #create variable objects\n",
    "y = tf.placeholder(tf.float32, [None, num_periods, output])\n",
    "\n",
    "basic_cell = tf.contrib.rnn.BasicRNNCell(num_units=hidden, activation=tf.nn.relu)   #create our RNN object\n",
    "rnn_output, states = tf.nn.dynamic_rnn(basic_cell, X, dtype=tf.float32)               #choose dynamic over static\n",
    "\n",
    "#set the learning rate\n",
    "learning_rate = 0.001   \n",
    "\n",
    "stacked_rnn_output = tf.reshape(rnn_output, [-1, hidden])           #change the form into a tensor\n",
    "stacked_outputs = tf.layers.dense(stacked_rnn_output, output)        #specify the type of layer (dense)\n",
    "outputs = tf.reshape(stacked_outputs, [-1, num_periods, output])          #shape of results\n",
    " \n",
    "loss = tf.reduce_sum(tf.square(outputs - y))    #define the cost function which evaluates the quality of our model\n",
    "optimizer = tf.train.AdamOptimizer(learning_rate=learning_rate)          #gradient descent method\n",
    "training_op = optimizer.minimize(loss)          #train the result of the application of the cost_function                                 \n",
    "init = tf.global_variables_initializer()"
   ]
  },
  {
   "cell_type": "code",
   "execution_count": null,
   "metadata": {
    "collapsed": false
   },
   "outputs": [],
   "source": [
    "epochs = 200   #number of iterations or training cycles, includes both the FeedFoward and Backpropogation\n",
    "trainloss=[]\n",
    "with tf.Session() as sess:\n",
    "    init.run()\n",
    "    ans=[]\n",
    "    for ep in range(epochs):\n",
    "        ans=sess.run(training_op, feed_dict={X: x_batches, y: y_batches})\n",
    "        mse = loss.eval(feed_dict={X: x_batches, y: y_batches})\n",
    "        trainloss.append(mse)#get loss function\n",
    "    test_pred = sess.run(outputs, feed_dict={X: test_x}) #get test result\n",
    "    train_pred = sess.run(outputs, feed_dict={X: x_batches})#get train result\n",
    "    "
   ]
  },
  {
   "cell_type": "code",
   "execution_count": null,
   "metadata": {
    "collapsed": true
   },
   "outputs": [],
   "source": [
    "test_pred = y_scaler.inverse_transform(test_pred.reshape(1, -1)).reshape(-1,)\n",
    "test_true = y_scaler.inverse_transform(test_y.reshape(1, -1)).reshape(-1,)"
   ]
  },
  {
   "cell_type": "code",
   "execution_count": null,
   "metadata": {
    "collapsed": true
   },
   "outputs": [],
   "source": [
    "train_pred = y_scaler.inverse_transform(train_pred.reshape(1, -1)).reshape(-1,)\n",
    "train_true = y_scaler.inverse_transform(y_train.reshape(1, -1)).reshape(-1,)"
   ]
  },
  {
   "cell_type": "code",
   "execution_count": null,
   "metadata": {
    "collapsed": false
   },
   "outputs": [],
   "source": [
    "plt.figure(figsize=(20, 7))\n",
    "plt.xlabel('Time')\n",
    "plt.ylabel('Index')\n",
    "plt.plot(test_pred, label='test-pred')\n",
    "plt.plot(test_true, label='true')\n",
    "plt.legend()\n",
    "plt.show()"
   ]
  },
  {
   "cell_type": "code",
   "execution_count": null,
   "metadata": {
    "collapsed": false
   },
   "outputs": [],
   "source": [
    "plt.figure(figsize=(20, 7))\n",
    "plt.xlabel('Time')\n",
    "plt.ylabel('Index')\n",
    "plt.plot(train_true, label='true')\n",
    "plt.plot(train_pred, label='train-pred')\n",
    "plt.legend()\n",
    "plt.show()"
   ]
  },
  {
   "cell_type": "code",
   "execution_count": null,
   "metadata": {
    "collapsed": false
   },
   "outputs": [],
   "source": [
    "#test  error\n",
    "MSE = ((test_true-test_pred)**2).sum()/test_true.size\n",
    "RMSE = np.sqrt(((test_true-test_pred)**2).sum()/test_true.size)\n",
    "MAE= (np.abs(test_true-test_pred)).sum()/test_true.size\n",
    "MAPE=(np.abs(test_true-test_pred)*100/test_true).sum()/test_true.size\n",
    "print(RMSE,MAE,MAPE)"
   ]
  },
  {
   "cell_type": "code",
   "execution_count": null,
   "metadata": {
    "collapsed": false
   },
   "outputs": [],
   "source": [
    "#train error\n",
    "MSE = ((train_true-train_pred)**2).sum()/train_true.size\n",
    "RMSE = np.sqrt(((train_true-train_pred)**2).sum()/train_true.size)\n",
    "MAE= (np.abs(train_true-train_pred)).sum()/train_true.size\n",
    "MAPE=(np.abs(train_true-train_pred)*100/train_true).sum()/train_true.size\n",
    "print(RMSE,MAE,MAPE)"
   ]
  },
  {
   "cell_type": "code",
   "execution_count": null,
   "metadata": {
    "collapsed": false
   },
   "outputs": [],
   "source": [
    "#plot train loss\n",
    "plt.figure(figsize=(20, 7))\n",
    "plt.plot(trainloss)\n",
    "plt.title('model loss')\n",
    "plt.ylabel('loss')\n",
    "plt.xlabel('epoch')\n",
    "plt.legend(['train-loss'], loc='upper right')\n",
    "plt.show()"
   ]
  }
 ],
 "metadata": {
  "kernelspec": {
   "display_name": "Python 3",
   "language": "python",
   "name": "python3"
  },
  "language_info": {
   "codemirror_mode": {
    "name": "ipython",
    "version": 3
   },
   "file_extension": ".py",
   "mimetype": "text/x-python",
   "name": "python",
   "nbconvert_exporter": "python",
   "pygments_lexer": "ipython3",
   "version": "3.6.0"
  }
 },
 "nbformat": 4,
 "nbformat_minor": 2
}
